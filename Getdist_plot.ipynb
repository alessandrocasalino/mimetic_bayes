{
 "cells": [
  {
   "cell_type": "code",
   "execution_count": 6,
   "metadata": {},
   "outputs": [],
   "source": [
    "# Script to plot the results of the MCMC evaluation with Getdist\n",
    "# NOTE: in order for this to work, install Getdist in Python with pip install Getdist\n",
    "\n",
    "from getdist import plots, loadMCSamples\n",
    "\n",
    "# Script to plot the triangle plot\n",
    "gw = loadMCSamples('./Ligo_abc',settings={'ignore_rows':0.3})\n",
    "g = plots.getSubplotPlotter()\n",
    "g.triangle_plot(gw,['a','b','c'],filled=True)\n",
    "g.export('ligo_abc_tri.pdf')\n",
    "\n",
    "# Script to plot a single parameter plot\n",
    "gw1 = loadMCSamples('./Ligo_abc',settings={'ignore_rows':0.3})\n",
    "g1 = plots.getSinglePlotter()\n",
    "g1.plot_1d(gw1,'a')\n",
    "g1.export('ligo_a.pdf')"
   ]
  },
  {
   "cell_type": "code",
   "execution_count": null,
   "metadata": {
    "collapsed": true
   },
   "outputs": [],
   "source": []
  }
 ],
 "metadata": {
  "kernelspec": {
   "display_name": "Python 2",
   "language": "python",
   "name": "python2"
  },
  "language_info": {
   "codemirror_mode": {
    "name": "ipython",
    "version": 2
   },
   "file_extension": ".py",
   "mimetype": "text/x-python",
   "name": "python",
   "nbconvert_exporter": "python",
   "pygments_lexer": "ipython2",
   "version": "2.7.15"
  }
 },
 "nbformat": 4,
 "nbformat_minor": 2
}
